{
 "cells": [
  {
   "cell_type": "code",
   "id": "initial_id",
   "metadata": {
    "collapsed": true,
    "ExecuteTime": {
     "end_time": "2024-10-30T15:38:23.558106Z",
     "start_time": "2024-10-30T15:38:22.907399Z"
    }
   },
   "source": [
    "import numpy as np\n",
    "import matplotlib.pyplot as plt\n",
    "from anyio import sleep"
   ],
   "outputs": [],
   "execution_count": 2
  },
  {
   "metadata": {
    "ExecuteTime": {
     "end_time": "2024-10-30T15:39:28.200656Z",
     "start_time": "2024-10-30T15:39:28.193449Z"
    }
   },
   "cell_type": "code",
   "source": [
    "def sigmoid(x):\n",
    "    return 1/(1+np.exp(-x))"
   ],
   "id": "264d4ef802fb8317",
   "outputs": [],
   "execution_count": 3
  },
  {
   "metadata": {
    "ExecuteTime": {
     "end_time": "2024-10-30T15:40:24.850207Z",
     "start_time": "2024-10-30T15:40:24.842742Z"
    }
   },
   "cell_type": "code",
   "source": [
    "def sigmoid_derivative(x):\n",
    "    return x*(1-x)"
   ],
   "id": "989524709352864b",
   "outputs": [],
   "execution_count": 4
  },
  {
   "metadata": {
    "ExecuteTime": {
     "end_time": "2024-10-30T15:53:24.701056Z",
     "start_time": "2024-10-30T15:53:24.693051Z"
    }
   },
   "cell_type": "code",
   "source": [
    "class NeuralNetwork:\n",
    "    def __init__(self, input_size, hidden_size, output_size, learning_rate=0.1):\n",
    "        self.weights_input_hidden = np.random.rand(input_size, hidden_size)\n",
    "        self.bias_hidden = np.random.rand(1, hidden_size)\n",
    "        self.weights_hidden_output = np.random.rand(hidden_size, output_size)\n",
    "        self.bias_output = np.random.rand(1, output_size)\n",
    "        self.learning_rate = learning_rate\n",
    "        self.errors = []\n",
    "\n",
    "    def forward(self, X):\n",
    "        self.hidden_input = np.dot(X, self.weights_input_hidden) + self.bias_hidden\n",
    "        self.hidden_output = sigmoid(self.hidden_input)\n",
    "        self.output_input = np.dot(self.hidden_output, self.weights_hidden_output) + self.bias_output\n",
    "        self.output = sigmoid(self.output_input)\n",
    "\n",
    "        return self.output\n",
    "\n",
    "    def backward(self, X, y):\n",
    "        # Error di output\n",
    "        output_error = y - self.output\n",
    "        output_delta = output_error * sigmoid_derivative(self.output)\n",
    "\n",
    "        # Error di lapisan tersembunyi\n",
    "        hidden_error = output_delta.dot(self.weights_hidden_output.T)\n",
    "        hidden_delta = hidden_error * sigmoid_derivative(self.hidden_output)\n",
    "\n",
    "        # Update bobot dan bias\n",
    "        self.weights_hidden_output += self.hidden_output.T.dot(output_delta) * self.learning_rate\n",
    "        self.bias_output += np.sum(output_delta, axis=0, keepdims=True) * self.learning_rate\n",
    "        self.weights_input_hidden += X.T.dot(hidden_delta) * self.learning_rate\n",
    "        self.bias_hidden += np.sum(hidden_delta, axis=0, keepdims=True) * self.learning_rate\n",
    "\n",
    "        # Menyimpan error total dari epoch saat ini (Mean Squared Error)\n",
    "        self.errors.append(np.mean(np.square(output_error)))\n",
    "\n",
    "    # Training\n",
    "    def train(self, X, y, epochs):\n",
    "        for epoch in range(epochs):\n",
    "            self.forward(X)\n",
    "            self.backward(X, y)\n",
    "\n",
    "    # Prediksi\n",
    "    def predict(self, X):\n",
    "        output = self.forward(X)\n",
    "        return np.round(output)  # Membulatkan hasil untuk klasifikasi biner\n",
    "\n",
    "    # Visualisasi error selama training\n",
    "    def plot_error(self):\n",
    "        plt.plot(self.errors)\n",
    "        plt.xlabel(\"Epoch\")\n",
    "        plt.ylabel(\"Mean Squared Error\")\n",
    "        plt.title(\"Error Selama Training\")\n",
    "        plt.show()"
   ],
   "id": "b68930af12d52626",
   "outputs": [],
   "execution_count": 12
  },
  {
   "metadata": {
    "ExecuteTime": {
     "end_time": "2024-10-30T15:53:27.801891Z",
     "start_time": "2024-10-30T15:53:27.798659Z"
    }
   },
   "cell_type": "code",
   "source": [
    "X = np.array([[0, 0],\n",
    "              [0, 1],\n",
    "              [1, 0],\n",
    "              [1, 1]])\n",
    "y = np.array([[0], [1], [1], [0]])"
   ],
   "id": "cc942d25773694f1",
   "outputs": [],
   "execution_count": 13
  },
  {
   "metadata": {
    "ExecuteTime": {
     "end_time": "2024-10-30T15:53:29.454857Z",
     "start_time": "2024-10-30T15:53:29.063010Z"
    }
   },
   "cell_type": "code",
   "source": [
    "nn = NeuralNetwork(input_size=2, hidden_size=4, output_size=1, learning_rate=0.1)\n",
    "nn.train(X, y, epochs=10000)\n",
    "nn.plot_error()"
   ],
   "id": "87ad09d9fa845fea",
   "outputs": [
    {
     "data": {
      "text/plain": [
       "<Figure size 640x480 with 1 Axes>"
      ],
      "image/png": "[encoded data removed]"
     },
     "metadata": {},
     "output_type": "display_data"
    }
   ],
   "execution_count": 14
  },
  {
   "metadata": {
    "ExecuteTime": {
     "end_time": "2024-10-30T15:53:34.448857Z",
     "start_time": "2024-10-30T15:53:34.443625Z"
    }
   },
   "cell_type": "code",
   "source": [
    "for i in X:\n",
    "    print(f\"Input: {i}, Predicted Output: {nn.predict(i.reshape(1, -1))}\")"
   ],
   "id": "89b8452e82014171",
   "outputs": [
    {
     "name": "stdout",
     "output_type": "stream",
     "text": [
      "Input: [0 0], Predicted Output: [[0.]]\n",
      "Input: [0 1], Predicted Output: [[1.]]\n",
      "Input: [1 0], Predicted Output: [[1.]]\n",
      "Input: [1 1], Predicted Output: [[0.]]\n"
     ]
    }
   ],
   "execution_count": 15
  },
  {
   "metadata": {
    "ExecuteTime": {
     "end_time": "2024-10-30T16:13:36.295898Z",
     "start_time": "2024-10-30T16:13:36.289684Z"
    }
   },
   "cell_type": "code",
   "source": "",
   "id": "ad10274eda05d289",
   "outputs": [
    {
     "data": {
      "text/plain": [
       "array([[1.]])"
      ]
     },
     "execution_count": 18,
     "metadata": {},
     "output_type": "execute_result"
    }
   ],
   "execution_count": 18
  }
 ],
 "metadata": {
  "kernelspec": {
   "display_name": "Python 3",
   "language": "python",
   "name": "python3"
  },
  "language_info": {
   "codemirror_mode": {
    "name": "ipython",
    "version": 2
   },
   "file_extension": ".py",
   "mimetype": "text/x-python",
   "name": "python",
   "nbconvert_exporter": "python",
   "pygments_lexer": "ipython2",
   "version": "2.7.6"
  }
 },
 "nbformat": 4,
 "nbformat_minor": 5
}
