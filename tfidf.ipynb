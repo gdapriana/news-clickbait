{
 "cells": [
  {
   "cell_type": "code",
   "id": "initial_id",
   "metadata": {
    "collapsed": true,
    "ExecuteTime": {
     "end_time": "2024-11-05T03:16:48.996817Z",
     "start_time": "2024-11-05T03:16:48.670984Z"
    }
   },
   "source": [
    "import pandas as pd\n",
    "import re\n",
    "import csv\n",
    "from collections import Counter\n",
    "import math"
   ],
   "outputs": [],
   "execution_count": 1
  },
  {
   "metadata": {},
   "cell_type": "markdown",
   "source": "### DATA PREPARATION",
   "id": "5250898975dfe57f"
  },
  {
   "metadata": {
    "ExecuteTime": {
     "end_time": "2024-11-05T03:17:20.603974Z",
     "start_time": "2024-11-05T03:17:20.576561Z"
    }
   },
   "cell_type": "code",
   "source": [
    "dataset = pd.read_csv('dataset/dataset.csv')\n",
    "stopwords = set()\n",
    "with open('./dataset/stopwordindonesia.csv', mode='r') as csv_file:\n",
    "    csv_reader = csv.reader(csv_file)\n",
    "    for row in csv_reader:\n",
    "        stopwords.add(row[0].strip())"
   ],
   "id": "f926af48b5e4af30",
   "outputs": [],
   "execution_count": 2
  },
  {
   "metadata": {},
   "cell_type": "markdown",
   "source": "### EDA",
   "id": "e840607db6788479"
  },
  {
   "metadata": {
    "ExecuteTime": {
     "end_time": "2024-11-05T03:17:23.065156Z",
     "start_time": "2024-11-05T03:17:23.049551Z"
    }
   },
   "cell_type": "code",
   "source": [
    "# remove unused column\n",
    "dataset.drop(columns=['label'], inplace=True)"
   ],
   "id": "b618223ecff34a56",
   "outputs": [],
   "execution_count": 3
  },
  {
   "metadata": {},
   "cell_type": "markdown",
   "source": "### PREPROCESSING",
   "id": "48fa13aee666e362"
  },
  {
   "metadata": {
    "ExecuteTime": {
     "end_time": "2024-11-05T03:17:24.722029Z",
     "start_time": "2024-11-05T03:17:24.717466Z"
    }
   },
   "cell_type": "code",
   "source": [
    "# format text (text cleaning), applied stopwords\n",
    "def preprocess(text):\n",
    "    # Ubah ke huruf kecil\n",
    "    text = text.lower()\n",
    "    # Hapus tanda baca\n",
    "    text = re.sub(r'[^\\w\\s]', '', text)\n",
    "    # Tokenisasi dan hilangkan stopwords\n",
    "    words = text.split()\n",
    "    words = [word for word in words if word not in stopwords]\n",
    "    return words\n",
    "\n",
    "# compute TF\n",
    "def compute_tf(doc):\n",
    "    tf_dict = {}\n",
    "    counter = Counter(doc)\n",
    "    total_terms = len(doc)\n",
    "    for word, count in counter.items():\n",
    "        tf_dict[word] = count / total_terms\n",
    "    return tf_dict\n",
    "\n",
    "# compute IDF\n",
    "def compute_idf(docs):\n",
    "    idf_dict = {}\n",
    "    total_docs = len(docs)\n",
    "    all_words = set(word for doc in docs for word in doc)\n",
    "\n",
    "    for word in all_words:\n",
    "        doc_count = sum(1 for doc in docs if word in doc)\n",
    "        idf_dict[word] = math.log(total_docs / (1 + doc_count))  # menggunakan log smoothing\n",
    "    return idf_dict\n",
    "\n",
    "# compute TF-IDF\n",
    "def compute_tfidf(tf, idf):\n",
    "    tfidf_dict = {}\n",
    "    for word, tf_value in tf.items():\n",
    "        tfidf_dict[word] = tf_value * idf.get(word, 0)\n",
    "    return tfidf_dict\n",
    "\n",
    "# unique word\n",
    "def to_vector(tfidf_dict, all_words):\n",
    "    return [tfidf_dict.get(word, 0) for word in all_words]"
   ],
   "id": "92801c8cba05bd26",
   "outputs": [],
   "execution_count": 4
  },
  {
   "metadata": {
    "ExecuteTime": {
     "end_time": "2024-11-05T03:17:45.333664Z",
     "start_time": "2024-11-05T03:17:26.943704Z"
    }
   },
   "cell_type": "code",
   "source": [
    "preprocessed_text = [preprocess(doc) for doc in dataset['title']]\n",
    "tf_docs = [compute_tf(doc) for doc in preprocessed_text]\n",
    "idf_docs = compute_idf(tf_docs)\n",
    "tfidf_docs = [compute_tfidf(tf, idf_docs) for tf in tf_docs]\n",
    "\n",
    "all_words = sorted(idf_docs.keys())\n",
    "tfidf_vectors = [to_vector(tfidf, all_words) for tfidf in tfidf_docs]"
   ],
   "id": "24ade984b792e52b",
   "outputs": [],
   "execution_count": 5
  },
  {
   "metadata": {
    "ExecuteTime": {
     "end_time": "2024-11-05T03:20:54.886552Z",
     "start_time": "2024-11-05T03:20:54.882350Z"
    }
   },
   "cell_type": "code",
   "source": "len(tfidf_vectors)",
   "id": "e5eedb1135c13cc2",
   "outputs": [
    {
     "data": {
      "text/plain": [
       "15000"
      ]
     },
     "execution_count": 15,
     "metadata": {},
     "output_type": "execute_result"
    }
   ],
   "execution_count": 15
  }
 ],
 "metadata": {
  "kernelspec": {
   "display_name": "Python 3",
   "language": "python",
   "name": "python3"
  },
  "language_info": {
   "codemirror_mode": {
    "name": "ipython",
    "version": 2
   },
   "file_extension": ".py",
   "mimetype": "text/x-python",
   "name": "python",
   "nbconvert_exporter": "python",
   "pygments_lexer": "ipython2",
   "version": "2.7.6"
  }
 },
 "nbformat": 4,
 "nbformat_minor": 5
}
