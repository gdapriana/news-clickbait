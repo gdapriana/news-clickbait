{
 "cells": [
  {
   "cell_type": "code",
   "id": "initial_id",
   "metadata": {
    "collapsed": true,
    "ExecuteTime": {
     "end_time": "2024-11-05T03:59:44.524475Z",
     "start_time": "2024-11-05T03:59:43.932767Z"
    }
   },
   "source": [
    "import pandas as pd\n",
    "import csv\n",
    "from sklearn.feature_extraction.text import TfidfVectorizer"
   ],
   "outputs": [],
   "execution_count": 1
  },
  {
   "metadata": {
    "ExecuteTime": {
     "end_time": "2024-11-05T03:59:45.702712Z",
     "start_time": "2024-11-05T03:59:45.676614Z"
    }
   },
   "cell_type": "code",
   "source": [
    "stopwords = pd.read_csv('dataset/stopwordindonesia.csv', header=None, index_col=False)[0].to_list()\n",
    "df = pd.read_csv('dataset/dataset.csv').drop(columns=['label'])"
   ],
   "id": "c741380b2948fa63",
   "outputs": [],
   "execution_count": 2
  },
  {
   "metadata": {
    "ExecuteTime": {
     "end_time": "2024-11-05T03:59:47.121753Z",
     "start_time": "2024-11-05T03:59:47.033360Z"
    }
   },
   "cell_type": "code",
   "source": [
    "max_features = 1000\n",
    "tfidf_vectorizer = TfidfVectorizer()\n",
    "tfidf_matrix = tfidf_vectorizer.fit_transform(df['title'])"
   ],
   "id": "1054b9cdb7ea59d3",
   "outputs": [],
   "execution_count": 3
  },
  {
   "metadata": {
    "ExecuteTime": {
     "end_time": "2024-11-05T03:59:48.988636Z",
     "start_time": "2024-11-05T03:59:48.750364Z"
    }
   },
   "cell_type": "code",
   "source": "tfidf_matrix.toarray()",
   "id": "8656c5bf7c15b2e4",
   "outputs": [
    {
     "data": {
      "text/plain": [
       "array([[0., 0., 0., ..., 0., 0., 0.],\n",
       "       [0., 0., 0., ..., 0., 0., 0.],\n",
       "       [0., 0., 0., ..., 0., 0., 0.],\n",
       "       ...,\n",
       "       [0., 0., 0., ..., 0., 0., 0.],\n",
       "       [0., 0., 0., ..., 0., 0., 0.],\n",
       "       [0., 0., 0., ..., 0., 0., 0.]])"
      ]
     },
     "execution_count": 4,
     "metadata": {},
     "output_type": "execute_result"
    }
   ],
   "execution_count": 4
  }
 ],
 "metadata": {
  "kernelspec": {
   "display_name": "Python 3",
   "language": "python",
   "name": "python3"
  },
  "language_info": {
   "codemirror_mode": {
    "name": "ipython",
    "version": 2
   },
   "file_extension": ".py",
   "mimetype": "text/x-python",
   "name": "python",
   "nbconvert_exporter": "python",
   "pygments_lexer": "ipython2",
   "version": "2.7.6"
  }
 },
 "nbformat": 4,
 "nbformat_minor": 5
}
